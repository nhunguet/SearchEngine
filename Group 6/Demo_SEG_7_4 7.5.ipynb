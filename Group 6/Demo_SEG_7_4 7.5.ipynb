{
  "nbformat": 4,
  "nbformat_minor": 0,
  "metadata": {
    "colab": {
      "provenance": []
    },
    "kernelspec": {
      "name": "python3",
      "display_name": "Python 3"
    },
    "language_info": {
      "name": "python"
    }
  },
  "cells": [
    {
      "cell_type": "code",
      "source": [
        "!pip install whoosh beautifulsoup4 requests scikit-learn"
      ],
      "metadata": {
        "colab": {
          "base_uri": "https://localhost:8080/"
        },
        "id": "BMw0VwDeORGU",
        "outputId": "3fc3d2c3-6738-4837-8507-3a8d75b31216"
      },
      "execution_count": 1,
      "outputs": [
        {
          "output_type": "stream",
          "name": "stdout",
          "text": [
            "Collecting whoosh\n",
            "  Downloading Whoosh-2.7.4-py2.py3-none-any.whl.metadata (3.1 kB)\n",
            "Requirement already satisfied: beautifulsoup4 in /usr/local/lib/python3.11/dist-packages (4.13.3)\n",
            "Requirement already satisfied: requests in /usr/local/lib/python3.11/dist-packages (2.32.3)\n",
            "Requirement already satisfied: scikit-learn in /usr/local/lib/python3.11/dist-packages (1.6.1)\n",
            "Requirement already satisfied: soupsieve>1.2 in /usr/local/lib/python3.11/dist-packages (from beautifulsoup4) (2.6)\n",
            "Requirement already satisfied: typing-extensions>=4.0.0 in /usr/local/lib/python3.11/dist-packages (from beautifulsoup4) (4.12.2)\n",
            "Requirement already satisfied: charset-normalizer<4,>=2 in /usr/local/lib/python3.11/dist-packages (from requests) (3.4.1)\n",
            "Requirement already satisfied: idna<4,>=2.5 in /usr/local/lib/python3.11/dist-packages (from requests) (3.10)\n",
            "Requirement already satisfied: urllib3<3,>=1.21.1 in /usr/local/lib/python3.11/dist-packages (from requests) (2.3.0)\n",
            "Requirement already satisfied: certifi>=2017.4.17 in /usr/local/lib/python3.11/dist-packages (from requests) (2025.1.31)\n",
            "Requirement already satisfied: numpy>=1.19.5 in /usr/local/lib/python3.11/dist-packages (from scikit-learn) (1.26.4)\n",
            "Requirement already satisfied: scipy>=1.6.0 in /usr/local/lib/python3.11/dist-packages (from scikit-learn) (1.13.1)\n",
            "Requirement already satisfied: joblib>=1.2.0 in /usr/local/lib/python3.11/dist-packages (from scikit-learn) (1.4.2)\n",
            "Requirement already satisfied: threadpoolctl>=3.1.0 in /usr/local/lib/python3.11/dist-packages (from scikit-learn) (3.5.0)\n",
            "Downloading Whoosh-2.7.4-py2.py3-none-any.whl (468 kB)\n",
            "\u001b[2K   \u001b[90m━━━━━━━━━━━━━━━━━━━━━━━━━━━━━━━━━━━━━━━━\u001b[0m \u001b[32m468.8/468.8 kB\u001b[0m \u001b[31m6.4 MB/s\u001b[0m eta \u001b[36m0:00:00\u001b[0m\n",
            "\u001b[?25hInstalling collected packages: whoosh\n",
            "Successfully installed whoosh-2.7.4\n"
          ]
        }
      ]
    },
    {
      "cell_type": "code",
      "execution_count": 2,
      "metadata": {
        "id": "y_3ptZ_LOFrg"
      },
      "outputs": [],
      "source": [
        "from whoosh.index import create_in, open_dir\n",
        "from whoosh.fields import Schema, TEXT\n",
        "from whoosh.qparser import QueryParser\n",
        "from bs4 import BeautifulSoup\n",
        "import requests\n",
        "import os\n",
        "import shutil\n",
        "from sklearn.feature_extraction.text import TfidfVectorizer\n"
      ]
    },
    {
      "cell_type": "markdown",
      "source": [
        "**TẠO INDEX TÌM KIẾM VỚI WHOOSH**"
      ],
      "metadata": {
        "id": "GgHzY-efOd5r"
      }
    },
    {
      "cell_type": "code",
      "source": [
        "def create_search_index():\n",
        "    \"\"\"Tạo index cho hệ thống tìm kiếm với Whoosh\"\"\"\n",
        "    schema = Schema(title=TEXT(stored=True), content=TEXT)\n",
        "\n",
        "    # Xóa thư mục index cũ nếu có\n",
        "    if os.path.exists(\"indexdir\"):\n",
        "        shutil.rmtree(\"indexdir\")\n",
        "\n",
        "    os.mkdir(\"indexdir\")\n",
        "    ix = create_in(\"indexdir\", schema)\n",
        "    writer = ix.writer()\n",
        "\n",
        "    # Thêm tài liệu giả lập\n",
        "    docs = [\n",
        "        (\"AI and Machine Learning\", \"Artificial Intelligence (AI) and ML are revolutionizing technology.\"),\n",
        "        (\"Deep Learning Basics\", \"Deep Learning is a subset of Machine Learning focusing on neural networks.\"),\n",
        "        (\"Big Data Trends\", \"Big Data is crucial for AI advancements and analytics.\"),\n",
        "    ]\n",
        "\n",
        "    for title, content in docs:\n",
        "        writer.add_document(title=title, content=content)\n",
        "\n",
        "    writer.commit()\n",
        "    print(\"Search index created successfully.\")\n",
        "\n",
        "# Chạy để tạo index\n",
        "create_search_index()\n"
      ],
      "metadata": {
        "colab": {
          "base_uri": "https://localhost:8080/"
        },
        "id": "YE9aV5xLOkVP",
        "outputId": "2b797814-0f20-4e79-f754-8eed7b08f5e0"
      },
      "execution_count": 3,
      "outputs": [
        {
          "output_type": "stream",
          "name": "stdout",
          "text": [
            "Search index created successfully.\n"
          ]
        }
      ]
    },
    {
      "cell_type": "markdown",
      "source": [
        "**THỰC HIỆN TÌM KIẾM TRONG INDEX**"
      ],
      "metadata": {
        "id": "Q36g2pJeOpTf"
      }
    },
    {
      "cell_type": "code",
      "source": [
        "def search_query(query):\n",
        "    \"\"\"Thực hiện tìm kiếm với Whoosh\"\"\"\n",
        "    ix = open_dir(\"indexdir\")\n",
        "    with ix.searcher() as searcher:\n",
        "        query_parser = QueryParser(\"content\", ix.schema)\n",
        "        query_parsed = query_parser.parse(query)\n",
        "        results = searcher.search(query_parsed)\n",
        "\n",
        "        print(f\"\\n Search Results for '{query}':\")\n",
        "        for r in results:\n",
        "            print(f\"   - {r['title']}\")\n",
        "\n",
        "# Chạy thử tìm kiếm với từ khóa \"AI\"\n",
        "search_query(\"AI\")"
      ],
      "metadata": {
        "colab": {
          "base_uri": "https://localhost:8080/"
        },
        "id": "-TgKay6yOvQ8",
        "outputId": "9fd03266-4b5d-4188-9c7c-fb2300effc35"
      },
      "execution_count": 4,
      "outputs": [
        {
          "output_type": "stream",
          "name": "stdout",
          "text": [
            "\n",
            " Search Results for 'AI':\n",
            "   - AI and Machine Learning\n",
            "   - Big Data Trends\n"
          ]
        }
      ]
    }
  ]
}