{
 "cells": [
  {
   "cell_type": "markdown",
   "metadata": {},
   "source": [
    "# 🚀 Introduction: Query Processing Demo with Inverted Index\n",
    "\n",
    "## 📌 Overview\n",
    "In information retrieval, the **Inverted Index** is a crucial data structure that enhances query processing speed in large datasets. There are multiple approaches to query processing using this index, including:\n",
    "\n",
    "1. **Document-at-a-time retrieval** 📝 - Processes one document at a time.\n",
    "2. **Term-at-a-time retrieval** 🔍 - Processes one term at a time.\n",
    "3. **List Skipping** ⚡ - Optimizes by skipping some entries in the list.\n",
    "\n",
    "## 🎯 Objectives\n",
    "- Understand how different query processing methods work.\n",
    "- Experiment with their performance on a small dataset.\n",
    "- Compare the results to see their differences."
   ]
  },
  {
   "cell_type": "code",
   "execution_count": 1,
   "metadata": {},
   "outputs": [
    {
     "name": "stdout",
     "output_type": "stream",
     "text": [
      "Document-at-a-time retrieval: [(1, 2), (3, 1), (2, 1)]\n",
      "Term-at-a-time retrieval: [(1, 2), (3, 1), (2, 1)]\n",
      "List Skipping retrieval: [(1, 2)]\n"
     ]
    }
   ],
   "source": [
    "import heapq\n",
    "\n",
    "class InvertedIndex:\n",
    "    def __init__(self):\n",
    "        self.index = {}\n",
    "\n",
    "    def add_document(self, doc_id, terms):\n",
    "        \"\"\"Add a document to the inverted index\"\"\"\n",
    "        for term in terms:\n",
    "            if term not in self.index:\n",
    "                self.index[term] = []\n",
    "            self.index[term].append((doc_id, terms.count(term)))\n",
    "\n",
    "    def document_at_a_time_retrieval(self, query_terms):\n",
    "        \"\"\"Perform document-at-a-time retrieval\"\"\"\n",
    "        doc_scores = {}\n",
    "        for term in query_terms:\n",
    "            if term in self.index:\n",
    "                for doc_id, freq in self.index[term]:\n",
    "                    if doc_id not in doc_scores:\n",
    "                        doc_scores[doc_id] = 0\n",
    "                    doc_scores[doc_id] += freq\n",
    "        \n",
    "        return sorted(doc_scores.items(), key=lambda x: x[1], reverse=True)\n",
    "\n",
    "    def term_at_a_time_retrieval(self, query_terms):\n",
    "        \"\"\"Perform term-at-a-time retrieval\"\"\"\n",
    "        doc_scores = {}\n",
    "        for term in query_terms:\n",
    "            if term in self.index:\n",
    "                for doc_id, freq in self.index[term]:\n",
    "                    if doc_id not in doc_scores:\n",
    "                        doc_scores[doc_id] = 0\n",
    "                    doc_scores[doc_id] += freq\n",
    "        \n",
    "        return sorted(doc_scores.items(), key=lambda x: x[1], reverse=True)\n",
    "\n",
    "    def list_skipping(self, query_terms, skip_step=2):\n",
    "        \"\"\"Optimized retrieval with list skipping\"\"\"\n",
    "        doc_scores = {}\n",
    "        for term in query_terms:\n",
    "            if term in self.index:\n",
    "                postings = self.index[term]\n",
    "                i = 0\n",
    "                while i < len(postings):\n",
    "                    doc_id, freq = postings[i]\n",
    "                    if doc_id not in doc_scores:\n",
    "                        doc_scores[doc_id] = 0\n",
    "                    doc_scores[doc_id] += freq\n",
    "                    i += skip_step  # Skip some postings for faster evaluation\n",
    "\n",
    "        return sorted(doc_scores.items(), key=lambda x: x[1], reverse=True)\n",
    "\n",
    "# Example Usage\n",
    "index = InvertedIndex()\n",
    "index.add_document(1, [\"data\", \"retrieval\", \"index\"])\n",
    "index.add_document(2, [\"query\", \"processing\", \"index\"])\n",
    "index.add_document(3, [\"data\", \"query\", \"evaluation\"])\n",
    "\n",
    "query_terms = [\"data\", \"index\"]\n",
    "print(\"Document-at-a-time retrieval:\", index.document_at_a_time_retrieval(query_terms))\n",
    "print(\"Term-at-a-time retrieval:\", index.term_at_a_time_retrieval(query_terms))\n",
    "print(\"List Skipping retrieval:\", index.list_skipping(query_terms))"
   ]
  },
  {
   "cell_type": "markdown",
   "metadata": {},
   "source": [
    "# 🎯 Conclusion\n",
    "\n",
    "## 📊 Comparison of Query Processing Methods\n",
    "| Method | Advantages ✅ | Disadvantages ⚠️ |\n",
    "|------------|-----------|--------------|\n",
    "| **Document-at-a-time** | Simple, easy to implement | Slower on large datasets |\n",
    "| **Term-at-a-time** | Optimized for multiple terms | Requires managing multiple lists |\n",
    "| **List Skipping** | Speeds up query processing | May skip relevant documents |\n",
    "\n",
    "## 🔥 Summary\n",
    "- **Document-at-a-time** is suitable for small datasets or precise queries.\n",
    "- **Term-at-a-time** can be optimized with techniques like **threshold pruning**.\n",
    "- **List Skipping** enhances search speed but may miss relevant documents.\n",
    "\n",
    "👉 **Depending on the specific scenario, the most appropriate method can be chosen!** 🚀"
   ]
  }
 ],
 "metadata": {
  "kernelspec": {
   "display_name": "Python 3",
   "language": "python",
   "name": "python3"
  },
  "language_info": {
   "codemirror_mode": {
    "name": "ipython",
    "version": 3
   },
   "file_extension": ".py",
   "mimetype": "text/x-python",
   "name": "python",
   "nbconvert_exporter": "python",
   "pygments_lexer": "ipython3",
   "version": "3.11.9"
  }
 },
 "nbformat": 4,
 "nbformat_minor": 2
}
