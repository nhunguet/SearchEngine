{
  "nbformat": 4,
  "nbformat_minor": 0,
  "metadata": {
    "colab": {
      "provenance": []
    },
    "kernelspec": {
      "name": "python3",
      "display_name": "Python 3"
    },
    "language_info": {
      "name": "python"
    }
  },
  "cells": [
    {
      "cell_type": "code",
      "source": [
        "!pip install google-search-results\n",
        "\n",
        "import json\n",
        "import requests\n",
        "import re\n",
        "from serpapi import GoogleSearch\n",
        "from collections import defaultdict\n"
      ],
      "metadata": {
        "id": "ka4vD_szzjuU"
      },
      "execution_count": null,
      "outputs": []
    },
    {
      "cell_type": "code",
      "source": [
        "# SerpAPI Key (Replace with your own)\n",
        "SERPAPI_KEY = \"9feec7ed5ff4bc5f3290ccb2908f203877b018ee77854f646abecece77adba0b\"\n",
        "\n",
        "# Load CACM queries and relevance judgments\n",
        "def load_cacm_relevance(qrels_file=\"/content/qrels.text\"):\n",
        "    relevance_judgments = defaultdict(dict)\n",
        "    with open(qrels_file, \"r\") as f:\n",
        "        for line in f:\n",
        "            parts = line.strip().split()\n",
        "            query_id = int(parts[0])  # Query ID\n",
        "            doc_id = str(parts[1])    # Convert doc_id to string for correct matching\n",
        "            relevance = int(parts[3]) # Relevance score (last column)\n",
        "\n",
        "            if relevance > 0:  # Store only relevant documents\n",
        "                relevance_judgments[query_id][doc_id] = relevance\n",
        "\n",
        "    return relevance_judgments\n",
        "\n",
        "# Get Google search results\n",
        "def get_google_results(query, num_results=10):\n",
        "    params = {\n",
        "        \"q\": query,\n",
        "        \"num\": num_results,\n",
        "        \"api_key\": SERPAPI_KEY\n",
        "    }\n",
        "    search = GoogleSearch(params)\n",
        "    results = search.get_dict()\n",
        "\n",
        "    if \"organic_results\" not in results:\n",
        "        return []\n",
        "\n",
        "    return [result[\"link\"] for result in results[\"organic_results\"]]\n",
        "\n",
        "# Improved URL-to-CACM ID mapping\n",
        "def map_url_to_cacm_id(url):\n",
        "    match = re.search(r'/(\\d{4,})', url)  # Extracts 4+ digit document ID\n",
        "    if match:\n",
        "        return match.group(1)  # Return only the numeric document ID\n",
        "    return None  # No match found\n",
        "\n",
        "# Evaluate retrieved results against CACM ground truth\n",
        "def evaluate_results(retrieved_docs, relevant_docs):\n",
        "    retrieved_ids = [map_url_to_cacm_id(url) for url in retrieved_docs]\n",
        "    retrieved_ids = [id for id in retrieved_ids if id is not None]  # Remove None values\n",
        "\n",
        "    retrieved_set = set(retrieved_ids)\n",
        "    relevant_set = set(relevant_docs)\n",
        "\n",
        "    if not retrieved_set:\n",
        "        return 0, 0, 0  # No valid retrieved results\n",
        "\n",
        "    precision = len(retrieved_set & relevant_set) / len(retrieved_set)\n",
        "    recall = len(retrieved_set & relevant_set) / len(relevant_set) if relevant_set else 0\n",
        "\n",
        "    # Mean Average Precision (MAP)\n",
        "    relevant_count = 0\n",
        "    average_precision = 0\n",
        "    for i, doc in enumerate(retrieved_ids):\n",
        "        if doc in relevant_set:\n",
        "            relevant_count += 1\n",
        "            precision_at_i = relevant_count / (i + 1)\n",
        "            average_precision += precision_at_i\n",
        "\n",
        "    map_score = average_precision / len(relevant_set) if relevant_set else 0\n",
        "\n",
        "    return precision, recall, map_score\n",
        "\n",
        "# Run evaluation\n",
        "relevance_data = load_cacm_relevance()\n",
        "\n",
        "query_id = 1  # Change query ID as needed\n",
        "query_text = \"computer networks CACM site:dl.acm.org OR site:researchgate.net\"\n",
        "\n",
        "retrieved_docs = get_google_results(query_text, num_results=10)\n",
        "relevant_docs = set(relevance_data.get(query_id, {}).keys())  # Ensure it's a set of strings\n",
        "\n",
        "precision, recall, map_score = evaluate_results(retrieved_docs, relevant_docs)\n",
        "\n",
        "# Print evaluation results\n",
        "print(f\"Query: {query_text}\")\n",
        "print(f\"Precision: {precision:.4f}\")\n",
        "print(f\"Recall: {recall:.4f}\")\n",
        "print(f\"MAP: {map_score:.4f}\")\n"
      ],
      "metadata": {
        "colab": {
          "base_uri": "https://localhost:8080/"
        },
        "id": "9VhtnpipwjNH",
        "outputId": "4ae43d5c-d741-4e0a-c233-ada194bc0cbc"
      },
      "execution_count": 6,
      "outputs": [
        {
          "output_type": "stream",
          "name": "stdout",
          "text": [
            "Requirement already satisfied: google-search-results in /usr/local/lib/python3.11/dist-packages (2.4.2)\n",
            "Requirement already satisfied: requests in /usr/local/lib/python3.11/dist-packages (from google-search-results) (2.32.3)\n",
            "Requirement already satisfied: charset-normalizer<4,>=2 in /usr/local/lib/python3.11/dist-packages (from requests->google-search-results) (3.4.1)\n",
            "Requirement already satisfied: idna<4,>=2.5 in /usr/local/lib/python3.11/dist-packages (from requests->google-search-results) (3.10)\n",
            "Requirement already satisfied: urllib3<3,>=1.21.1 in /usr/local/lib/python3.11/dist-packages (from requests->google-search-results) (2.3.0)\n",
            "Requirement already satisfied: certifi>=2017.4.17 in /usr/local/lib/python3.11/dist-packages (from requests->google-search-results) (2025.1.31)\n",
            "Query: computer networks CACM site:dl.acm.org OR site:researchgate.net\n",
            "Precision: 0.0000\n",
            "Recall: 0.0000\n",
            "MAP: 0.0000\n"
          ]
        }
      ]
    }
  ]
}