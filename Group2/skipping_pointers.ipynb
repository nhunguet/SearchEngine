{
 "cells": [
  {
   "cell_type": "code",
   "execution_count": null,
   "metadata": {},
   "outputs": [],
   "source": [
    "import math\n",
    "\n",
    "def skip_pointers_search(galago_list, animal_list):\n",
    "    \"\"\"\n",
    "    Implements skipping with skip pointers for a Boolean AND query.\n",
    "\n",
    "    Args:\n",
    "        galago_list: List of document IDs where \"galago\" appears (sorted).\n",
    "        animal_list: List of document IDs where \"animal\" appears (sorted).\n",
    "\n",
    "    Returns:\n",
    "        List of document IDs that contain both \"galago\" and \"animal\".\n",
    "    \"\"\"\n",
    "\n",
    "    dg = 0  # Pointer for galago_list\n",
    "    da = 0  # Pointer for animal_list\n",
    "    results = []\n",
    "\n",
    "    # Compute skip pointers (jump step)\n",
    "    skip_g = int(math.sqrt(len(galago_list)))  # Skip step for galago list\n",
    "    skip_a = int(math.sqrt(len(animal_list)))  # Skip step for animal list\n",
    "\n",
    "    while dg < len(galago_list) and da < len(animal_list):\n",
    "        if galago_list[dg] == animal_list[da]:  # Match found\n",
    "            results.append(galago_list[dg])\n",
    "            dg += 1\n",
    "            da += 1\n",
    "\n",
    "        elif galago_list[dg] < animal_list[da]:  # Move galago pointer\n",
    "            if dg + skip_g < len(galago_list) and galago_list[dg + skip_g] <= animal_list[da]:\n",
    "                dg += skip_g  # Skip ahead\n",
    "            else:\n",
    "                dg += 1  # Move linearly if skipping isn't possible\n",
    "\n",
    "        else:  # Move animal pointer\n",
    "            if da + skip_a < len(animal_list) and animal_list[da + skip_a] <= galago_list[dg]:\n",
    "                da += skip_a  # Skip ahead\n",
    "            else:\n",
    "                da += 1  # Move linearly if skipping isn't possible\n",
    "\n",
    "    return results"
   ]
  },
  {
   "cell_type": "code",
   "execution_count": 9,
   "metadata": {},
   "outputs": [
    {
     "name": "stdout",
     "output_type": "stream",
     "text": [
      "[1, 3, 5, 8, 21]\n"
     ]
    }
   ],
   "source": [
    "galago_list = [1, 2, 3, 5, 8, 13, 21, 34]\n",
    "animal_list = [1, 3, 4, 5, 8, 15, 21, 30]\n",
    "\n",
    "print(skip_pointers_search(galago_list, animal_list))"
   ]
  },
  {
   "cell_type": "code",
   "execution_count": null,
   "metadata": {},
   "outputs": [],
   "source": []
  }
 ],
 "metadata": {
  "kernelspec": {
   "display_name": "py3",
   "language": "python",
   "name": "python3"
  },
  "language_info": {
   "codemirror_mode": {
    "name": "ipython",
    "version": 3
   },
   "file_extension": ".py",
   "mimetype": "text/x-python",
   "name": "python",
   "nbconvert_exporter": "python",
   "pygments_lexer": "ipython3",
   "version": "3.11.9"
  }
 },
 "nbformat": 4,
 "nbformat_minor": 2
}
