{
  "nbformat": 4,
  "nbformat_minor": 0,
  "metadata": {
    "colab": {
      "provenance": []
    },
    "kernelspec": {
      "name": "python3",
      "display_name": "Python 3"
    },
    "language_info": {
      "name": "python"
    }
  },
  "cells": [
    {
      "cell_type": "code",
      "execution_count": null,
      "metadata": {
        "colab": {
          "base_uri": "https://localhost:8080/"
        },
        "id": "cfcz_1eka7z3",
        "outputId": "f79afa0a-1f19-43b1-8b6b-dbcaed51b91c"
      },
      "outputs": [
        {
          "output_type": "stream",
          "name": "stdout",
          "text": [
            "Inverted Index:\n",
            "trí: [[1, 0], [3, 0], [5, 9]]\n",
            "tuệ: [[1, 1], [3, 1], [5, 10]]\n",
            "nhân: [[1, 2], [3, 2], [5, 11]]\n",
            "tạo: [[1, 3], [3, 3], [5, 12]]\n",
            "đang: [[1, 4], [5, 4]]\n",
            "thay: [[1, 5]]\n",
            "đổi: [[1, 6]]\n",
            "thế: [[1, 7]]\n",
            "giới: [[1, 8]]\n",
            "với: [[1, 9]]\n",
            "những: [[1, 10]]\n",
            "tiến: [[1, 11], [5, 6]]\n",
            "bộ: [[1, 12]]\n",
            "vượt: [[1, 13]]\n",
            "bậc: [[1, 14]]\n",
            "trong: [[1, 15], [3, 10], [4, 7]]\n",
            "học: [[1, 16], [2, 2], [4, 0], [5, 3]]\n",
            "sâu.: [[1, 17]]\n",
            "mô: [[2, 0], [5, 7]]\n",
            "hình: [[2, 1], [4, 10], [5, 8]]\n",
            "sâu: [[2, 3], [4, 1]]\n",
            "giúp: [[2, 4]]\n",
            "máy: [[2, 5]]\n",
            "tính: [[2, 6]]\n",
            "hiểu: [[2, 7]]\n",
            "ngôn: [[2, 8]]\n",
            "ngữ: [[2, 9]]\n",
            "tự: [[2, 10]]\n",
            "nhiên: [[2, 11]]\n",
            "tốt: [[2, 12]]\n",
            "hơn.: [[2, 13]]\n",
            "có: [[3, 4]]\n",
            "thể: [[3, 5]]\n",
            "hỗ: [[3, 6]]\n",
            "trợ: [[3, 7]]\n",
            "con: [[3, 8]]\n",
            "người: [[3, 9]]\n",
            "nhiều: [[3, 11]]\n",
            "lĩnh: [[3, 12]]\n",
            "vực: [[3, 13]]\n",
            "khác: [[3, 14]]\n",
            "nhau.: [[3, 15]]\n",
            "đóng: [[4, 2]]\n",
            "vai: [[4, 3]]\n",
            "trò: [[4, 4]]\n",
            "quan: [[4, 5]]\n",
            "trọng: [[4, 6]]\n",
            "nhận: [[4, 8]]\n",
            "diện: [[4, 9]]\n",
            "ảnh: [[4, 11]]\n",
            "và: [[4, 12]]\n",
            "giọng: [[4, 13]]\n",
            "nói.: [[4, 14]]\n",
            "các: [[5, 0]]\n",
            "nhà: [[5, 1]]\n",
            "khoa: [[5, 2]]\n",
            "cải: [[5, 5]]\n",
            "mỗi: [[5, 13]]\n",
            "ngày.: [[5, 14]]\n"
          ]
        }
      ],
      "source": [
        "from collections import defaultdict\n",
        "\n",
        "# Danh sách các đoạn văn\n",
        "documents = [\n",
        "    \"Trí tuệ nhân tạo đang thay đổi thế giới với những tiến bộ vượt bậc trong học sâu.\",\n",
        "    \"Mô hình học sâu giúp máy tính hiểu ngôn ngữ tự nhiên tốt hơn.\",\n",
        "    \"Trí tuệ nhân tạo có thể hỗ trợ con người trong nhiều lĩnh vực khác nhau.\",\n",
        "    \"Học sâu đóng vai trò quan trọng trong nhận diện hình ảnh và giọng nói.\",\n",
        "    \"Các nhà khoa học đang cải tiến mô hình trí tuệ nhân tạo mỗi ngày.\"\n",
        "]\n",
        "\n",
        "# Cấu trúc Inverted Index (từ → danh sách [doc_id, vị trí])\n",
        "inverted_index = defaultdict(list)\n",
        "\n",
        "# Duyệt qua từng tài liệu để lưu thông tin\n",
        "for doc_id, doc in enumerate(documents, start=1):  # Đánh số đoạn văn từ 1\n",
        "    words = doc.lower().split()  # Chuyển thành chữ thường và tách từ\n",
        "    for pos, word in enumerate(words):  # Duyệt qua từng từ trong đoạn văn\n",
        "        inverted_index[word].append([doc_id, pos])  # Lưu theo dạng [doc_id, vị trí]\n",
        "\n",
        "# Hiển thị kết quả\n",
        "print(\"Inverted Index:\")\n",
        "for word, occurrences in inverted_index.items():\n",
        "    print(f\"{word}: {occurrences}\")\n"
      ]
    }
  ]
}