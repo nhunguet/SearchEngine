{
  "nbformat": 4,
  "nbformat_minor": 0,
  "metadata": {
    "colab": {
      "provenance": []
    },
    "kernelspec": {
      "name": "python3",
      "display_name": "Python 3"
    },
    "language_info": {
      "name": "python"
    }
  },
  "cells": [
    {
      "cell_type": "code",
      "source": [
        "!pip install feedparser"
      ],
      "metadata": {
        "colab": {
          "base_uri": "https://localhost:8080/"
        },
        "id": "XsbX6K3dAiOS",
        "outputId": "c60bd0ac-d1e6-414f-afc5-b0299145e1e9"
      },
      "execution_count": 2,
      "outputs": [
        {
          "output_type": "stream",
          "name": "stdout",
          "text": [
            "Collecting feedparser\n",
            "  Downloading feedparser-6.0.11-py3-none-any.whl.metadata (2.4 kB)\n",
            "Collecting sgmllib3k (from feedparser)\n",
            "  Downloading sgmllib3k-1.0.0.tar.gz (5.8 kB)\n",
            "  Preparing metadata (setup.py) ... \u001b[?25l\u001b[?25hdone\n",
            "Downloading feedparser-6.0.11-py3-none-any.whl (81 kB)\n",
            "\u001b[2K   \u001b[90m━━━━━━━━━━━━━━━━━━━━━━━━━━━━━━━━━━━━━━━━\u001b[0m \u001b[32m81.3/81.3 kB\u001b[0m \u001b[31m1.9 MB/s\u001b[0m eta \u001b[36m0:00:00\u001b[0m\n",
            "\u001b[?25hBuilding wheels for collected packages: sgmllib3k\n",
            "  Building wheel for sgmllib3k (setup.py) ... \u001b[?25l\u001b[?25hdone\n",
            "  Created wheel for sgmllib3k: filename=sgmllib3k-1.0.0-py3-none-any.whl size=6047 sha256=ecbc609e7f0c5790f270d4af52e2c28cab1ea04b2acdc07805f385716e440890\n",
            "  Stored in directory: /root/.cache/pip/wheels/f0/69/93/a47e9d621be168e9e33c7ce60524393c0b92ae83cf6c6e89c5\n",
            "Successfully built sgmllib3k\n",
            "Installing collected packages: sgmllib3k, feedparser\n",
            "Successfully installed feedparser-6.0.11 sgmllib3k-1.0.0\n"
          ]
        }
      ]
    },
    {
      "cell_type": "code",
      "execution_count": 5,
      "metadata": {
        "id": "ifYQqo3WW0Gx",
        "colab": {
          "base_uri": "https://localhost:8080/"
        },
        "outputId": "4f4460d3-8744-4404-be9c-6d104a19ecc7"
      },
      "outputs": [
        {
          "output_type": "stream",
          "name": "stdout",
          "text": [
            "VTV Feed Title: VTV - Pháp luật - RSS Feed\n",
            "\n",
            "Top 5 Articles:\n",
            "- Cựu Chủ tịch Nhà xuất bản Giáo dục bị đề nghị 12 - 13 năm tù: https://vtv.vn/phap-luat/cuu-chu-tich-nha-xuat-ban-giao-duc-bi-de-nghi-12-13-nam-tu-20250115112206846.htm\n",
            "- Tạm giữ 9 thanh thiếu niên đánh nhầm người trong quán nhậu ở Quảng Nam: https://vtv.vn/phap-luat/tam-giu-9-thanh-thieu-nien-danh-nham-nguoi-trong-quan-nhau-o-quang-nam-20250115074229093.htm\n",
            "- Bình Thuận: Tuyên phạt “ông trùm cát tặc” Nguyễn Hữu Chính và đồng phạm hơn 20 năm tù: https://vtv.vn/phap-luat/binh-thuan-tuyen-phat-ong-trum-cat-tac-nguyen-huu-chinh-va-dong-pham-hon-20-nam-tu-20250115001653996.htm\n",
            "- Bắt nhóm cướp thanh thiếu niên chuyên nhằm vào phụ nữ lúc rạng sáng: https://vtv.vn/phap-luat/bat-nhom-cuop-thanh-thieu-nien-chuyen-nham-vao-phu-nu-luc-rang-sang-2025011421515085.htm\n",
            "- Quảng Bình: Bắt 4 đối tượng cho vay lãi suất trên 500% một năm: https://vtv.vn/phap-luat/quang-binh-bat-4-doi-tuong-cho-vay-lai-suat-tren-500-mot-nam-20250114201825376.htm\n"
          ]
        }
      ],
      "source": [
        "import feedparser\n",
        "\n",
        "# URL RSS Feed (ví dụ RSS của VTV)\n",
        "rss_url = \"https://vtv.vn/rss/phap-luat.rss\"\n",
        "\n",
        "# Đọc nội dung từ RSS Feed\n",
        "feed = feedparser.parse(rss_url)\n",
        "\n",
        "# In ra 5 bài viết đầu tiên\n",
        "print(\"VTV Feed Title:\", feed.feed.title)\n",
        "print(\"\\nTop 5 Articles:\")\n",
        "for entry in feed.entries[:5]:\n",
        "    print(f\"- {entry.title}: {entry.link}\")"
      ]
    },
    {
      "cell_type": "code",
      "source": [],
      "metadata": {
        "id": "r3cwtRRlYFi_"
      },
      "execution_count": null,
      "outputs": []
    }
  ]
}