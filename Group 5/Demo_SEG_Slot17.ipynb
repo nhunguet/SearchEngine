{
  "nbformat": 4,
  "nbformat_minor": 0,
  "metadata": {
    "colab": {
      "provenance": []
    },
    "kernelspec": {
      "name": "python3",
      "display_name": "Python 3"
    },
    "language_info": {
      "name": "python"
    }
  },
  "cells": [
    {
      "cell_type": "code",
      "source": [
        "pip install googletrans==4.0.0-rc1"
      ],
      "metadata": {
        "colab": {
          "base_uri": "https://localhost:8080/"
        },
        "id": "3i-mgQ6ZtbGl",
        "outputId": "457b775d-64cc-485f-f21d-237c430d15c9"
      },
      "execution_count": null,
      "outputs": [
        {
          "output_type": "stream",
          "name": "stdout",
          "text": [
            "Requirement already satisfied: googletrans==4.0.0-rc1 in /usr/local/lib/python3.11/dist-packages (4.0.0rc1)\n",
            "Requirement already satisfied: httpx==0.13.3 in /usr/local/lib/python3.11/dist-packages (from googletrans==4.0.0-rc1) (0.13.3)\n",
            "Requirement already satisfied: certifi in /usr/local/lib/python3.11/dist-packages (from httpx==0.13.3->googletrans==4.0.0-rc1) (2025.1.31)\n",
            "Requirement already satisfied: hstspreload in /usr/local/lib/python3.11/dist-packages (from httpx==0.13.3->googletrans==4.0.0-rc1) (2025.1.1)\n",
            "Requirement already satisfied: sniffio in /usr/local/lib/python3.11/dist-packages (from httpx==0.13.3->googletrans==4.0.0-rc1) (1.3.1)\n",
            "Requirement already satisfied: chardet==3.* in /usr/local/lib/python3.11/dist-packages (from httpx==0.13.3->googletrans==4.0.0-rc1) (3.0.4)\n",
            "Requirement already satisfied: idna==2.* in /usr/local/lib/python3.11/dist-packages (from httpx==0.13.3->googletrans==4.0.0-rc1) (2.10)\n",
            "Requirement already satisfied: rfc3986<2,>=1.3 in /usr/local/lib/python3.11/dist-packages (from httpx==0.13.3->googletrans==4.0.0-rc1) (1.5.0)\n",
            "Requirement already satisfied: httpcore==0.9.* in /usr/local/lib/python3.11/dist-packages (from httpx==0.13.3->googletrans==4.0.0-rc1) (0.9.1)\n",
            "Requirement already satisfied: h11<0.10,>=0.8 in /usr/local/lib/python3.11/dist-packages (from httpcore==0.9.*->httpx==0.13.3->googletrans==4.0.0-rc1) (0.9.0)\n",
            "Requirement already satisfied: h2==3.* in /usr/local/lib/python3.11/dist-packages (from httpcore==0.9.*->httpx==0.13.3->googletrans==4.0.0-rc1) (3.2.0)\n",
            "Requirement already satisfied: hyperframe<6,>=5.2.0 in /usr/local/lib/python3.11/dist-packages (from h2==3.*->httpcore==0.9.*->httpx==0.13.3->googletrans==4.0.0-rc1) (5.2.0)\n",
            "Requirement already satisfied: hpack<4,>=3.0 in /usr/local/lib/python3.11/dist-packages (from h2==3.*->httpcore==0.9.*->httpx==0.13.3->googletrans==4.0.0-rc1) (3.0.0)\n"
          ]
        }
      ]
    },
    {
      "cell_type": "code",
      "execution_count": null,
      "metadata": {
        "colab": {
          "base_uri": "https://localhost:8080/"
        },
        "id": "kbBIWwSQs7Yl",
        "outputId": "415a1b85-4b36-4b08-df06-1fca649ad38d"
      },
      "outputs": [
        {
          "output_type": "stream",
          "name": "stdout",
          "text": [
            "\n",
            "--- Model 1---\n",
            "Original Query: laptop giá rẻ\n",
            "Similar Queries:\n",
            "- notebook giá rẻ\n",
            "- PC giá rẻ\n",
            "- laptop giá rẻ\n",
            "- máy tính giá rẻ\n",
            "- máy tính xách tay giá rẻ\n",
            "- máy tính để bàn giá rẻ\n",
            "\n",
            "--- Model 2---\n",
            "Original Query: laptop giá rẻ\n",
            "Stemmed Query: laptop giá rẻ\n",
            "Similar Queries:\n",
            "- notebook giá rẻ\n",
            "- PC giá rẻ\n",
            "- laptop giá rẻ\n",
            "- máy tính giá rẻ\n",
            "- máy tính xách tay giá rẻ\n",
            "- máy tính để bàn giá rẻ\n"
          ]
        }
      ],
      "source": [
        "import nltk\n",
        "from nltk.stem import PorterStemmer\n",
        "import itertools\n",
        "\n",
        "# Bảng ánh xạ từ đồng nghĩa\n",
        "synonym_dict = {\n",
        "    \"laptop\": [\"notebook\", \"PC\", \"laptop\", \"máy tính\", \"máy tính xách tay\", \"máy tính để bàn\"],\n",
        "    \"giá rẻ\": [\"giá thấp\", \"giá mềm\"]\n",
        "}\n",
        "\n",
        "def synonym_expansion_search(query):\n",
        "    words = query.split()\n",
        "    expanded_queries = [synonym_dict.get(word, [word]) for word in words]\n",
        "    expanded_combinations = list(itertools.product(*expanded_queries))\n",
        "    expanded_results = [' '.join(combination) for combination in expanded_combinations]\n",
        "\n",
        "    print(f\"Original Query: {query}\")\n",
        "    print(\"Similar Queries:\")\n",
        "    for eq in expanded_results:\n",
        "        print(f\"- {eq}\")\n",
        "    return expanded_results\n",
        "\n",
        "def stemming_and_synonym_search(query):\n",
        "    ps = PorterStemmer()\n",
        "    words = query.split()\n",
        "    stemmed_query = ' '.join([ps.stem(word) for word in words])\n",
        "    expanded_queries = [synonym_dict.get(word, [word]) for word in stemmed_query.split()]\n",
        "    expanded_combinations = list(itertools.product(*expanded_queries))\n",
        "    expanded_results = [' '.join(combination) for combination in expanded_combinations]\n",
        "\n",
        "    print(f\"Original Query: {query}\")\n",
        "    print(f\"Stemmed Query: {stemmed_query}\")\n",
        "    print(\"Similar Queries:\")\n",
        "    for eq in expanded_results:\n",
        "        print(f\"- {eq}\")\n",
        "    return expanded_results\n",
        "\n",
        "if __name__ == \"__main__\":\n",
        "    query = \"laptop giá rẻ\"\n",
        "\n",
        "    print(\"\\n--- Model 1---\")\n",
        "    synonym_expansion_search(query)\n",
        "\n",
        "    print(\"\\n--- Model 2---\")\n",
        "    stemming_and_synonym_search(query)\n"
      ]
    },
    {
      "cell_type": "code",
      "source": [],
      "metadata": {
        "id": "bfACgmrztWXX"
      },
      "execution_count": null,
      "outputs": []
    }
  ]
}