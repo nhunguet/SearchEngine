{
 "cells": [
  {
   "cell_type": "code",
   "execution_count": 4,
   "metadata": {},
   "outputs": [
    {
     "name": "stdout",
     "output_type": "stream",
     "text": [
      "['ai', 'driven', 'self', 'learning', 'system', 'above', 'average', 'best', '2024']\n"
     ]
    }
   ],
   "source": [
    "import re\n",
    "import nltk\n",
    "from nltk.tokenize import word_tokenize\n",
    "from nltk.corpus import stopwords\n",
    "\n",
    "# nltk.download('punkt')\n",
    "# nltk.download('stopwords')\n",
    "\n",
    "# Define a custom stopword list (extending NLTK's)\n",
    "custom_stopwords = set(stopwords.words('english')) - {'above', 'below', 'over', 'under'}  # Keep some prepositions\n",
    "important_words = {'ai', 'c#', 'c++', 'x-ray', 'pi', 'i'}\n",
    "\n",
    "def custom_tokenize(text):\n",
    "    text = re.sub(r'(\\w+)-(\\w+)', r'\\1 \\2', text)\n",
    "    text = re.sub(r'[^\\w\\s@#\\.\\-]', '', text)\n",
    "\n",
    "    # Tokenization\n",
    "    tokens = word_tokenize(text.lower())\n",
    "    tokens = [t for t in tokens if t not in custom_stopwords or t in important_words]\n",
    "\n",
    "    return tokens\n",
    "\n",
    "text = \"The AI-driven self-learning system is above average, but not the best in 2024!\"\n",
    "tokens = custom_tokenize(text)\n",
    "print(tokens)\n"
   ]
  },
  {
   "cell_type": "code",
   "execution_count": 5,
   "metadata": {},
   "outputs": [
    {
     "name": "stdout",
     "output_type": "stream",
     "text": [
      "Stemming Result: ['centuri', 'centuri', 'run', 'ran']\n"
     ]
    }
   ],
   "source": [
    "from nltk.stem import PorterStemmer\n",
    "\n",
    "stemmer = PorterStemmer()\n",
    "\n",
    "# Ví dụ False Negative\n",
    "words = [\"century\", \"centuries\", \"running\", \"ran\"]\n",
    "\n",
    "stemmed_words = [stemmer.stem(word) for word in words]\n",
    "print(\"Stemming Result:\", stemmed_words)\n"
   ]
  },
  {
   "cell_type": "code",
   "execution_count": 6,
   "metadata": {},
   "outputs": [
    {
     "name": "stdout",
     "output_type": "stream",
     "text": [
      "Stemming Result: ['i', 'is', 'better', 'bet']\n"
     ]
    }
   ],
   "source": [
    "words = [\"I\", \"is\", \"better\", \"bet\"]\n",
    "\n",
    "stemmed_words = [stemmer.stem(word) for word in words]\n",
    "print(\"Stemming Result:\", stemmed_words)\n"
   ]
  },
  {
   "cell_type": "code",
   "execution_count": null,
   "metadata": {},
   "outputs": [],
   "source": []
  }
 ],
 "metadata": {
  "kernelspec": {
   "display_name": "Python 3",
   "language": "python",
   "name": "python3"
  },
  "language_info": {
   "codemirror_mode": {
    "name": "ipython",
    "version": 3
   },
   "file_extension": ".py",
   "mimetype": "text/x-python",
   "name": "python",
   "nbconvert_exporter": "python",
   "pygments_lexer": "ipython3",
   "version": "3.11.1"
  }
 },
 "nbformat": 4,
 "nbformat_minor": 2
}
