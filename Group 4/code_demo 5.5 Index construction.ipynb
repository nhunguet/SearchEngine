{
  "nbformat": 4,
  "nbformat_minor": 0,
  "metadata": {
    "colab": {
      "provenance": [],
      "toc_visible": true
    },
    "kernelspec": {
      "name": "python3",
      "display_name": "Python 3"
    },
    "language_info": {
      "name": "python"
    }
  },
  "cells": [
    {
      "cell_type": "code",
      "source": [
        "# Tạo dữ liệu mẫu cho transactions.txt\n",
        "transactions_data = \"\"\"\\\n",
        "1234567812345678 100.50\n",
        "8765432187654321 250.00\n",
        "1234567812345678 300.75\n",
        "5555666677778888 120.00\n",
        "9999888877776666 500.25\n",
        "2222333344445555 60.00\n",
        "3333444455556666 90.10\n",
        "1234567812345678 130.40\n",
        "2222333344445555 220.80\n",
        "7777888899990000 75.25\n",
        "\"\"\"\n",
        "\n",
        "# Lưu vào file transactions.txt\n",
        "file_path = \"transactions.txt\"\n",
        "with open(file_path, \"w\") as file:\n",
        "    file.write(transactions_data)\n",
        "\n",
        "file_path\n"
      ],
      "metadata": {
        "colab": {
          "base_uri": "https://localhost:8080/",
          "height": 36
        },
        "id": "-9nBA4y5Iq2j",
        "outputId": "8b427b09-184b-4118-cd50-dc4d5970ee1d"
      },
      "execution_count": null,
      "outputs": [
        {
          "output_type": "execute_result",
          "data": {
            "text/plain": [
              "'transactions.txt'"
            ],
            "application/vnd.google.colaboratory.intrinsic+json": {
              "type": "string"
            }
          },
          "metadata": {},
          "execution_count": 11
        }
      ]
    },
    {
      "cell_type": "code",
      "source": [
        "def count_unique_cards(file_path):\n",
        "    unique_cards = set()\n",
        "    with open(file_path, 'r') as file:\n",
        "        for line in file:\n",
        "            card_number, _ = line.strip().split()\n",
        "            unique_cards.add(card_number)\n",
        "\n",
        "    # Print the list of unique credit card numbers\n",
        "    print(\"List of unique credit card numbers:\")\n",
        "    for card in unique_cards:\n",
        "        print(card)\n",
        "\n",
        "    return len(unique_cards)\n",
        "\n",
        "file_path = \"transactions.txt\"\n",
        "print(\"Unique credit cards:\", count_unique_cards(file_path))\n"
      ],
      "metadata": {
        "colab": {
          "base_uri": "https://localhost:8080/"
        },
        "id": "7Avh1E5iCTfS",
        "outputId": "645ca0cc-08a1-4db8-a17c-096d1406a6d4"
      },
      "execution_count": null,
      "outputs": [
        {
          "output_type": "stream",
          "name": "stdout",
          "text": [
            "List of unique credit card numbers:\n",
            "9999888877776666\n",
            "2222333344445555\n",
            "3333444455556666\n",
            "7777888899990000\n",
            "5555666677778888\n",
            "1234567812345678\n",
            "8765432187654321\n",
            "Unique credit cards: 7\n"
          ]
        }
      ]
    },
    {
      "cell_type": "code",
      "source": [
        "\n",
        "import os\n",
        "\n",
        "# Tạo thư mục transactions_folder\n",
        "folder_path = \"transactions_folder\"\n",
        "os.makedirs(folder_path, exist_ok=True)\n",
        "\n",
        "# Dữ liệu mẫu cho các tệp giao dịch\n",
        "files_data = {\n",
        "    \"transactions1.txt\": \"\"\"\\\n",
        "1234567812345678 100.50\n",
        "8765432187654321 250.00\n",
        "5555666677778888 120.00\n",
        "9999888877776666 500.25\n",
        "\"\"\",\n",
        "    \"transactions2.txt\": \"\"\"\\\n",
        "2222333344445555 60.00\n",
        "3333444455556666 90.10\n",
        "1234567812345678 130.40\n",
        "2222333344445555 220.80\n",
        "\"\"\",\n",
        "    \"transactions3.txt\": \"\"\"\\\n",
        "7777888899990000 75.25\n",
        "5555666677778888 180.50\n",
        "8765432187654321 300.90\n",
        "9999888877776666 420.10\n",
        "\"\"\"\n",
        "}\n",
        "\n",
        "# Tạo các tệp trong thư mục\n",
        "for file_name, content in files_data.items():\n",
        "    file_path = os.path.join(folder_path, file_name)\n",
        "    with open(file_path, \"w\") as file:\n",
        "        file.write(content)\n",
        "\n",
        "folder_path\n"
      ],
      "metadata": {
        "colab": {
          "base_uri": "https://localhost:8080/",
          "height": 36
        },
        "id": "LDI_iw3dEnXO",
        "outputId": "17647f1b-82f0-48e5-ab92-e8e862621b17"
      },
      "execution_count": null,
      "outputs": [
        {
          "output_type": "execute_result",
          "data": {
            "text/plain": [
              "'transactions_folder'"
            ],
            "application/vnd.google.colaboratory.intrinsic+json": {
              "type": "string"
            }
          },
          "metadata": {},
          "execution_count": 5
        }
      ]
    },
    {
      "cell_type": "code",
      "source": [
        "import os\n",
        "\n",
        "def count_unique_cards_in_directory(directory):\n",
        "    unique_cards = set()\n",
        "    for filename in os.listdir(directory):\n",
        "        file_path = os.path.join(directory, filename)\n",
        "        with open(file_path, 'r') as file:\n",
        "            for line in file:\n",
        "                card_number, _ = line.strip().split()\n",
        "                unique_cards.add(card_number)\n",
        "\n",
        "    # Print the list of unique credit card numbers\n",
        "    print(\"List of unique credit card numbers:\")\n",
        "    for card in unique_cards:\n",
        "        print(card)\n",
        "\n",
        "    return len(unique_cards)\n",
        "\n",
        "directory = \"transactions_folder\"\n",
        "print(\"Unique credit cards:\", count_unique_cards_in_directory(directory))\n",
        "\n"
      ],
      "metadata": {
        "colab": {
          "base_uri": "https://localhost:8080/"
        },
        "id": "9z3mwfppCZXU",
        "outputId": "449c6013-760b-4531-ecb5-b49b146db159"
      },
      "execution_count": null,
      "outputs": [
        {
          "output_type": "stream",
          "name": "stdout",
          "text": [
            "List of unique credit card numbers:\n",
            "9999888877776666\n",
            "3333444455556666\n",
            "2222333344445555\n",
            "7777888899990000\n",
            "5555666677778888\n",
            "1234567812345678\n",
            "8765432187654321\n",
            "Unique credit cards: 7\n"
          ]
        }
      ]
    },
    {
      "cell_type": "code",
      "source": [
        "from collections import defaultdict\n",
        "\n",
        "\n",
        "def build_index(documents):\n",
        "    index = defaultdict(list)\n",
        "\n",
        "    for doc_id, text in enumerate(documents, start=1):\n",
        "        words = set(text.lower().split())  # Chuyển về chữ thường và loại bỏ trùng lặp\n",
        "        for word in words:\n",
        "            index[word].append(doc_id)  # Gán ID tài liệu vào từ khóa\n",
        "\n",
        "    return dict(index)\n",
        "\n",
        "\n",
        "# Ví dụ danh sách tài liệu\n",
        "documents = [\n",
        "    \"Cat runs fast\",\n",
        "    \"Dog runs slow\",\n",
        "    \"Cat and dog\"\n",
        "]\n",
        "\n",
        "# Xây dựng chỉ mục\n",
        "inverted_index = build_index(documents)\n",
        "\n",
        "# In kết quả\n",
        "for word, postings in inverted_index.items():\n",
        "    print(f\"{word}: {postings}\")"
      ],
      "metadata": {
        "id": "rqhgoh-HUbeQ",
        "outputId": "97e7cb4c-608e-4668-a484-f5beb64df491",
        "colab": {
          "base_uri": "https://localhost:8080/"
        }
      },
      "execution_count": 14,
      "outputs": [
        {
          "output_type": "stream",
          "name": "stdout",
          "text": [
            "cat: [1, 3]\n",
            "fast: [1]\n",
            "runs: [1, 2]\n",
            "slow: [2]\n",
            "dog: [2, 3]\n",
            "and: [3]\n"
          ]
        }
      ]
    },
    {
      "cell_type": "code",
      "source": [
        "from collections import defaultdict\n",
        "\n",
        "def merge_indexes(index1, index2):\n",
        "    \"\"\"Hợp nhất hai chỉ mục đảo ngược.\"\"\"\n",
        "    for word, postings in index2.items():\n",
        "        index1[word].extend(postings)\n",
        "    return index1\n",
        "\n",
        "def build_index(documents):\n",
        "    \"\"\"Xây dựng chỉ mục đảo ngược từ danh sách tài liệu.\"\"\"\n",
        "    index = defaultdict(list)\n",
        "    for doc_id, text in enumerate(documents, start=1):\n",
        "        words = set(text.lower().split())  # Chuyển về chữ thường và loại bỏ trùng lặp\n",
        "        for word in words:\n",
        "            index[word].append(doc_id)  # Gán ID tài liệu vào từ khóa\n",
        "    return index\n",
        "\n",
        "# Ví dụ danh sách tài liệu\n",
        "documents1 = [\n",
        "    \"Cat runs fast\",\n",
        "    \"Dog runs slow\"\n",
        "]\n",
        "\n",
        "documents2 = [\n",
        "    \"Cat and dog\",\n",
        "    \"Fast dog jumps\"\n",
        "]\n",
        "\n",
        "# Xây dựng chỉ mục theo từng phần\n",
        "index1 = build_index(documents1)\n",
        "index2 = build_index(documents2)\n",
        "\n",
        "# Hợp nhất chỉ mục\n",
        "merged_index = merge_indexes(index1, index2)\n",
        "\n",
        "# In kết quả\n",
        "for word, postings in merged_index.items():\n",
        "    print(f\"{word}: {sorted(set(postings))}\")"
      ],
      "metadata": {
        "id": "LJyed7PcWHP_",
        "outputId": "fc0d902a-a421-40a9-ea39-f96b10e7f14d",
        "colab": {
          "base_uri": "https://localhost:8080/"
        }
      },
      "execution_count": 16,
      "outputs": [
        {
          "output_type": "stream",
          "name": "stdout",
          "text": [
            "cat: [1]\n",
            "fast: [1, 2]\n",
            "runs: [1, 2]\n",
            "slow: [2]\n",
            "dog: [1, 2]\n",
            "and: [1]\n",
            "jumps: [2]\n"
          ]
        }
      ]
    }
  ]
}