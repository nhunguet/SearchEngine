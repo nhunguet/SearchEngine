{
  "nbformat": 4,
  "nbformat_minor": 0,
  "metadata": {
    "colab": {
      "provenance": []
    },
    "kernelspec": {
      "name": "python3",
      "display_name": "Python 3"
    },
    "language_info": {
      "name": "python"
    }
  },
  "cells": [
    {
      "cell_type": "code",
      "execution_count": 1,
      "metadata": {
        "colab": {
          "base_uri": "https://localhost:8080/"
        },
        "id": "fhJ0BbGknsd4",
        "outputId": "c854b2f6-cf0d-428f-b9ed-192e761b8ee3"
      },
      "outputs": [
        {
          "output_type": "stream",
          "name": "stdout",
          "text": [
            "Kết quả truy vấn Boolean:\n",
            "AI AND Machine: ['D2']\n",
            "AI OR Learning: ['D1', 'D2', 'D3']\n",
            "AI NOT Learning: ['D1', 'D3']\n"
          ]
        }
      ],
      "source": [
        "# Boolean Retrieval\n",
        "documents = {\n",
        "    \"D1\": \"AI is powerful\",\n",
        "    \"D2\": \"Machine Learning and AI\",\n",
        "    \"D3\": \"AI is the future\"\n",
        "}\n",
        "\n",
        "def boolean_retrieval(query, docs):\n",
        "    query_terms = query.lower().split()\n",
        "    results = []\n",
        "\n",
        "    for doc_id, content in docs.items():\n",
        "        content_terms = content.lower().split()\n",
        "\n",
        "        if \"and\" in query_terms:\n",
        "            terms = [t for t in query_terms if t not in [\"and\"]]\n",
        "            if all(term in content_terms for term in terms):\n",
        "                results.append(doc_id)\n",
        "\n",
        "        elif \"or\" in query_terms:\n",
        "            terms = [t for t in query_terms if t not in [\"or\"]]\n",
        "            if any(term in content_terms for term in terms):\n",
        "                results.append(doc_id)\n",
        "\n",
        "        elif \"not\" in query_terms:\n",
        "            terms = [t for t in query_terms if t not in [\"not\"]]\n",
        "            if terms[0] in content_terms and terms[1] not in content_terms:\n",
        "                results.append(doc_id)\n",
        "\n",
        "    return results\n",
        "\n",
        "# 🔍 Test truy vấn\n",
        "query1 = \"AI AND Machine\"\n",
        "query2 = \"AI OR Learning\"\n",
        "query3 = \"AI NOT Learning\"\n",
        "\n",
        "print(\"Kết quả truy vấn Boolean:\")\n",
        "print(f\"{query1}: {boolean_retrieval(query1, documents)}\")\n",
        "print(f\"{query2}: {boolean_retrieval(query2, documents)}\")\n",
        "print(f\"{query3}: {boolean_retrieval(query3, documents)}\")\n"
      ]
    },
    {
      "cell_type": "code",
      "source": [
        "import numpy as np\n",
        "from sklearn.feature_extraction.text import CountVectorizer\n",
        "from sklearn.metrics.pairwise import cosine_similarity\n",
        "\n",
        "# 🔹 Tài liệu\n",
        "documents = [\n",
        "    \"AI is powerful\",\n",
        "    \"Machine Learning and AI\",\n",
        "    \"AI is the future\"\n",
        "]\n",
        "\n",
        "# 🔹 Truy vấn\n",
        "query = [\"AI Machine\"]\n",
        "\n",
        "# 🔹 Tạo vector từ tài liệu + truy vấn\n",
        "vectorizer = CountVectorizer()\n",
        "doc_vectors = vectorizer.fit_transform(documents + query).toarray()\n",
        "\n",
        "# 🔹 Tính cosine similarity giữa truy vấn và từng tài liệu\n",
        "query_vector = doc_vectors[-1]  # Vector của truy vấn\n",
        "doc_vectors = doc_vectors[:-1]  # Vector của tài liệu\n",
        "\n",
        "similarities = cosine_similarity([query_vector], doc_vectors)[0]\n",
        "\n",
        "# 🔹 In kết quả\n",
        "for i, score in enumerate(similarities):\n",
        "    print(f\"Độ tương đồng của truy vấn với D{i+1}: {score:.4f}\")\n"
      ],
      "metadata": {
        "colab": {
          "base_uri": "https://localhost:8080/"
        },
        "id": "G8O1WrDjnwuK",
        "outputId": "d1ac4506-e91a-4957-f513-3205f3b07ce9"
      },
      "execution_count": 2,
      "outputs": [
        {
          "output_type": "stream",
          "name": "stdout",
          "text": [
            "Độ tương đồng của truy vấn với D1: 0.4082\n",
            "Độ tương đồng của truy vấn với D2: 0.7071\n",
            "Độ tương đồng của truy vấn với D3: 0.3536\n"
          ]
        }
      ]
    }
  ]
}